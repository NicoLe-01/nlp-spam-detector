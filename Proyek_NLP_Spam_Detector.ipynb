{
  "nbformat": 4,
  "nbformat_minor": 0,
  "metadata": {
    "colab": {
      "name": "Proyek NLP Spam Detector.ipynb",
      "provenance": [],
      "collapsed_sections": []
    },
    "kernelspec": {
      "name": "python3",
      "display_name": "Python 3"
    },
    "language_info": {
      "name": "python"
    },
    "gpuClass": "standard"
  },
  "cells": [
    {
      "cell_type": "markdown",
      "source": [
        "Dataset : https://www.kaggle.com/datasets/mfaisalqureshi/spam-email"
      ],
      "metadata": {
        "id": "GHhhkMX6M9nZ"
      }
    },
    {
      "cell_type": "markdown",
      "source": [
        "Import Data"
      ],
      "metadata": {
        "id": "I7Qemb4mTSvh"
      }
    },
    {
      "cell_type": "code",
      "execution_count": 153,
      "metadata": {
        "id": "qtPobZWeIoAx"
      },
      "outputs": [],
      "source": [
        "import pandas as pd\n",
        "df = pd.read_csv('/content/spam.csv')"
      ]
    },
    {
      "cell_type": "code",
      "source": [
        "df.head()"
      ],
      "metadata": {
        "colab": {
          "base_uri": "https://localhost:8080/",
          "height": 206
        },
        "id": "wsyT8bPUMZ30",
        "outputId": "c706e159-ae0f-41b1-a938-cdcc864a3a63"
      },
      "execution_count": 154,
      "outputs": [
        {
          "output_type": "execute_result",
          "data": {
            "text/plain": [
              "  Category                                            Message\n",
              "0      ham  Go until jurong point, crazy.. Available only ...\n",
              "1      ham                      Ok lar... Joking wif u oni...\n",
              "2     spam  Free entry in 2 a wkly comp to win FA Cup fina...\n",
              "3      ham  U dun say so early hor... U c already then say...\n",
              "4      ham  Nah I don't think he goes to usf, he lives aro..."
            ],
            "text/html": [
              "\n",
              "  <div id=\"df-521617ea-4efd-49cb-b4d0-6c205011e1f0\">\n",
              "    <div class=\"colab-df-container\">\n",
              "      <div>\n",
              "<style scoped>\n",
              "    .dataframe tbody tr th:only-of-type {\n",
              "        vertical-align: middle;\n",
              "    }\n",
              "\n",
              "    .dataframe tbody tr th {\n",
              "        vertical-align: top;\n",
              "    }\n",
              "\n",
              "    .dataframe thead th {\n",
              "        text-align: right;\n",
              "    }\n",
              "</style>\n",
              "<table border=\"1\" class=\"dataframe\">\n",
              "  <thead>\n",
              "    <tr style=\"text-align: right;\">\n",
              "      <th></th>\n",
              "      <th>Category</th>\n",
              "      <th>Message</th>\n",
              "    </tr>\n",
              "  </thead>\n",
              "  <tbody>\n",
              "    <tr>\n",
              "      <th>0</th>\n",
              "      <td>ham</td>\n",
              "      <td>Go until jurong point, crazy.. Available only ...</td>\n",
              "    </tr>\n",
              "    <tr>\n",
              "      <th>1</th>\n",
              "      <td>ham</td>\n",
              "      <td>Ok lar... Joking wif u oni...</td>\n",
              "    </tr>\n",
              "    <tr>\n",
              "      <th>2</th>\n",
              "      <td>spam</td>\n",
              "      <td>Free entry in 2 a wkly comp to win FA Cup fina...</td>\n",
              "    </tr>\n",
              "    <tr>\n",
              "      <th>3</th>\n",
              "      <td>ham</td>\n",
              "      <td>U dun say so early hor... U c already then say...</td>\n",
              "    </tr>\n",
              "    <tr>\n",
              "      <th>4</th>\n",
              "      <td>ham</td>\n",
              "      <td>Nah I don't think he goes to usf, he lives aro...</td>\n",
              "    </tr>\n",
              "  </tbody>\n",
              "</table>\n",
              "</div>\n",
              "      <button class=\"colab-df-convert\" onclick=\"convertToInteractive('df-521617ea-4efd-49cb-b4d0-6c205011e1f0')\"\n",
              "              title=\"Convert this dataframe to an interactive table.\"\n",
              "              style=\"display:none;\">\n",
              "        \n",
              "  <svg xmlns=\"http://www.w3.org/2000/svg\" height=\"24px\"viewBox=\"0 0 24 24\"\n",
              "       width=\"24px\">\n",
              "    <path d=\"M0 0h24v24H0V0z\" fill=\"none\"/>\n",
              "    <path d=\"M18.56 5.44l.94 2.06.94-2.06 2.06-.94-2.06-.94-.94-2.06-.94 2.06-2.06.94zm-11 1L8.5 8.5l.94-2.06 2.06-.94-2.06-.94L8.5 2.5l-.94 2.06-2.06.94zm10 10l.94 2.06.94-2.06 2.06-.94-2.06-.94-.94-2.06-.94 2.06-2.06.94z\"/><path d=\"M17.41 7.96l-1.37-1.37c-.4-.4-.92-.59-1.43-.59-.52 0-1.04.2-1.43.59L10.3 9.45l-7.72 7.72c-.78.78-.78 2.05 0 2.83L4 21.41c.39.39.9.59 1.41.59.51 0 1.02-.2 1.41-.59l7.78-7.78 2.81-2.81c.8-.78.8-2.07 0-2.86zM5.41 20L4 18.59l7.72-7.72 1.47 1.35L5.41 20z\"/>\n",
              "  </svg>\n",
              "      </button>\n",
              "      \n",
              "  <style>\n",
              "    .colab-df-container {\n",
              "      display:flex;\n",
              "      flex-wrap:wrap;\n",
              "      gap: 12px;\n",
              "    }\n",
              "\n",
              "    .colab-df-convert {\n",
              "      background-color: #E8F0FE;\n",
              "      border: none;\n",
              "      border-radius: 50%;\n",
              "      cursor: pointer;\n",
              "      display: none;\n",
              "      fill: #1967D2;\n",
              "      height: 32px;\n",
              "      padding: 0 0 0 0;\n",
              "      width: 32px;\n",
              "    }\n",
              "\n",
              "    .colab-df-convert:hover {\n",
              "      background-color: #E2EBFA;\n",
              "      box-shadow: 0px 1px 2px rgba(60, 64, 67, 0.3), 0px 1px 3px 1px rgba(60, 64, 67, 0.15);\n",
              "      fill: #174EA6;\n",
              "    }\n",
              "\n",
              "    [theme=dark] .colab-df-convert {\n",
              "      background-color: #3B4455;\n",
              "      fill: #D2E3FC;\n",
              "    }\n",
              "\n",
              "    [theme=dark] .colab-df-convert:hover {\n",
              "      background-color: #434B5C;\n",
              "      box-shadow: 0px 1px 3px 1px rgba(0, 0, 0, 0.15);\n",
              "      filter: drop-shadow(0px 1px 2px rgba(0, 0, 0, 0.3));\n",
              "      fill: #FFFFFF;\n",
              "    }\n",
              "  </style>\n",
              "\n",
              "      <script>\n",
              "        const buttonEl =\n",
              "          document.querySelector('#df-521617ea-4efd-49cb-b4d0-6c205011e1f0 button.colab-df-convert');\n",
              "        buttonEl.style.display =\n",
              "          google.colab.kernel.accessAllowed ? 'block' : 'none';\n",
              "\n",
              "        async function convertToInteractive(key) {\n",
              "          const element = document.querySelector('#df-521617ea-4efd-49cb-b4d0-6c205011e1f0');\n",
              "          const dataTable =\n",
              "            await google.colab.kernel.invokeFunction('convertToInteractive',\n",
              "                                                     [key], {});\n",
              "          if (!dataTable) return;\n",
              "\n",
              "          const docLinkHtml = 'Like what you see? Visit the ' +\n",
              "            '<a target=\"_blank\" href=https://colab.research.google.com/notebooks/data_table.ipynb>data table notebook</a>'\n",
              "            + ' to learn more about interactive tables.';\n",
              "          element.innerHTML = '';\n",
              "          dataTable['output_type'] = 'display_data';\n",
              "          await google.colab.output.renderOutput(dataTable, element);\n",
              "          const docLink = document.createElement('div');\n",
              "          docLink.innerHTML = docLinkHtml;\n",
              "          element.appendChild(docLink);\n",
              "        }\n",
              "      </script>\n",
              "    </div>\n",
              "  </div>\n",
              "  "
            ]
          },
          "metadata": {},
          "execution_count": 154
        }
      ]
    },
    {
      "cell_type": "markdown",
      "source": [
        "Ambil Label"
      ],
      "metadata": {
        "id": "pU-aDcbCTWsH"
      }
    },
    {
      "cell_type": "code",
      "source": [
        "category = pd.get_dummies(df['Category'])"
      ],
      "metadata": {
        "id": "n6vJ5khESgzZ"
      },
      "execution_count": 155,
      "outputs": []
    },
    {
      "cell_type": "markdown",
      "source": [
        "Gabungkan data yang telah diproses"
      ],
      "metadata": {
        "id": "_hZoAtogTdDP"
      }
    },
    {
      "cell_type": "code",
      "source": [
        "df_baru = pd.concat([df, category], axis=1)"
      ],
      "metadata": {
        "id": "XBlmkC_-SyzV"
      },
      "execution_count": 156,
      "outputs": []
    },
    {
      "cell_type": "markdown",
      "source": [
        "Buang kolom Category yang lama"
      ],
      "metadata": {
        "id": "wEqrAoNaTnVD"
      }
    },
    {
      "cell_type": "code",
      "source": [
        "df_baru = df_baru.drop(columns='Category')"
      ],
      "metadata": {
        "id": "32mMBo-pTFS9"
      },
      "execution_count": 157,
      "outputs": []
    },
    {
      "cell_type": "code",
      "source": [
        "df_baru.head()"
      ],
      "metadata": {
        "colab": {
          "base_uri": "https://localhost:8080/",
          "height": 206
        },
        "id": "2r69L9WLTZMk",
        "outputId": "83a8e530-3b4e-4647-c8a1-cb129b2e5d51"
      },
      "execution_count": 158,
      "outputs": [
        {
          "output_type": "execute_result",
          "data": {
            "text/plain": [
              "                                             Message  ham  spam\n",
              "0  Go until jurong point, crazy.. Available only ...    1     0\n",
              "1                      Ok lar... Joking wif u oni...    1     0\n",
              "2  Free entry in 2 a wkly comp to win FA Cup fina...    0     1\n",
              "3  U dun say so early hor... U c already then say...    1     0\n",
              "4  Nah I don't think he goes to usf, he lives aro...    1     0"
            ],
            "text/html": [
              "\n",
              "  <div id=\"df-ed2cc38d-25c5-4bb7-8c71-6c09ae07d2ce\">\n",
              "    <div class=\"colab-df-container\">\n",
              "      <div>\n",
              "<style scoped>\n",
              "    .dataframe tbody tr th:only-of-type {\n",
              "        vertical-align: middle;\n",
              "    }\n",
              "\n",
              "    .dataframe tbody tr th {\n",
              "        vertical-align: top;\n",
              "    }\n",
              "\n",
              "    .dataframe thead th {\n",
              "        text-align: right;\n",
              "    }\n",
              "</style>\n",
              "<table border=\"1\" class=\"dataframe\">\n",
              "  <thead>\n",
              "    <tr style=\"text-align: right;\">\n",
              "      <th></th>\n",
              "      <th>Message</th>\n",
              "      <th>ham</th>\n",
              "      <th>spam</th>\n",
              "    </tr>\n",
              "  </thead>\n",
              "  <tbody>\n",
              "    <tr>\n",
              "      <th>0</th>\n",
              "      <td>Go until jurong point, crazy.. Available only ...</td>\n",
              "      <td>1</td>\n",
              "      <td>0</td>\n",
              "    </tr>\n",
              "    <tr>\n",
              "      <th>1</th>\n",
              "      <td>Ok lar... Joking wif u oni...</td>\n",
              "      <td>1</td>\n",
              "      <td>0</td>\n",
              "    </tr>\n",
              "    <tr>\n",
              "      <th>2</th>\n",
              "      <td>Free entry in 2 a wkly comp to win FA Cup fina...</td>\n",
              "      <td>0</td>\n",
              "      <td>1</td>\n",
              "    </tr>\n",
              "    <tr>\n",
              "      <th>3</th>\n",
              "      <td>U dun say so early hor... U c already then say...</td>\n",
              "      <td>1</td>\n",
              "      <td>0</td>\n",
              "    </tr>\n",
              "    <tr>\n",
              "      <th>4</th>\n",
              "      <td>Nah I don't think he goes to usf, he lives aro...</td>\n",
              "      <td>1</td>\n",
              "      <td>0</td>\n",
              "    </tr>\n",
              "  </tbody>\n",
              "</table>\n",
              "</div>\n",
              "      <button class=\"colab-df-convert\" onclick=\"convertToInteractive('df-ed2cc38d-25c5-4bb7-8c71-6c09ae07d2ce')\"\n",
              "              title=\"Convert this dataframe to an interactive table.\"\n",
              "              style=\"display:none;\">\n",
              "        \n",
              "  <svg xmlns=\"http://www.w3.org/2000/svg\" height=\"24px\"viewBox=\"0 0 24 24\"\n",
              "       width=\"24px\">\n",
              "    <path d=\"M0 0h24v24H0V0z\" fill=\"none\"/>\n",
              "    <path d=\"M18.56 5.44l.94 2.06.94-2.06 2.06-.94-2.06-.94-.94-2.06-.94 2.06-2.06.94zm-11 1L8.5 8.5l.94-2.06 2.06-.94-2.06-.94L8.5 2.5l-.94 2.06-2.06.94zm10 10l.94 2.06.94-2.06 2.06-.94-2.06-.94-.94-2.06-.94 2.06-2.06.94z\"/><path d=\"M17.41 7.96l-1.37-1.37c-.4-.4-.92-.59-1.43-.59-.52 0-1.04.2-1.43.59L10.3 9.45l-7.72 7.72c-.78.78-.78 2.05 0 2.83L4 21.41c.39.39.9.59 1.41.59.51 0 1.02-.2 1.41-.59l7.78-7.78 2.81-2.81c.8-.78.8-2.07 0-2.86zM5.41 20L4 18.59l7.72-7.72 1.47 1.35L5.41 20z\"/>\n",
              "  </svg>\n",
              "      </button>\n",
              "      \n",
              "  <style>\n",
              "    .colab-df-container {\n",
              "      display:flex;\n",
              "      flex-wrap:wrap;\n",
              "      gap: 12px;\n",
              "    }\n",
              "\n",
              "    .colab-df-convert {\n",
              "      background-color: #E8F0FE;\n",
              "      border: none;\n",
              "      border-radius: 50%;\n",
              "      cursor: pointer;\n",
              "      display: none;\n",
              "      fill: #1967D2;\n",
              "      height: 32px;\n",
              "      padding: 0 0 0 0;\n",
              "      width: 32px;\n",
              "    }\n",
              "\n",
              "    .colab-df-convert:hover {\n",
              "      background-color: #E2EBFA;\n",
              "      box-shadow: 0px 1px 2px rgba(60, 64, 67, 0.3), 0px 1px 3px 1px rgba(60, 64, 67, 0.15);\n",
              "      fill: #174EA6;\n",
              "    }\n",
              "\n",
              "    [theme=dark] .colab-df-convert {\n",
              "      background-color: #3B4455;\n",
              "      fill: #D2E3FC;\n",
              "    }\n",
              "\n",
              "    [theme=dark] .colab-df-convert:hover {\n",
              "      background-color: #434B5C;\n",
              "      box-shadow: 0px 1px 3px 1px rgba(0, 0, 0, 0.15);\n",
              "      filter: drop-shadow(0px 1px 2px rgba(0, 0, 0, 0.3));\n",
              "      fill: #FFFFFF;\n",
              "    }\n",
              "  </style>\n",
              "\n",
              "      <script>\n",
              "        const buttonEl =\n",
              "          document.querySelector('#df-ed2cc38d-25c5-4bb7-8c71-6c09ae07d2ce button.colab-df-convert');\n",
              "        buttonEl.style.display =\n",
              "          google.colab.kernel.accessAllowed ? 'block' : 'none';\n",
              "\n",
              "        async function convertToInteractive(key) {\n",
              "          const element = document.querySelector('#df-ed2cc38d-25c5-4bb7-8c71-6c09ae07d2ce');\n",
              "          const dataTable =\n",
              "            await google.colab.kernel.invokeFunction('convertToInteractive',\n",
              "                                                     [key], {});\n",
              "          if (!dataTable) return;\n",
              "\n",
              "          const docLinkHtml = 'Like what you see? Visit the ' +\n",
              "            '<a target=\"_blank\" href=https://colab.research.google.com/notebooks/data_table.ipynb>data table notebook</a>'\n",
              "            + ' to learn more about interactive tables.';\n",
              "          element.innerHTML = '';\n",
              "          dataTable['output_type'] = 'display_data';\n",
              "          await google.colab.output.renderOutput(dataTable, element);\n",
              "          const docLink = document.createElement('div');\n",
              "          docLink.innerHTML = docLinkHtml;\n",
              "          element.appendChild(docLink);\n",
              "        }\n",
              "      </script>\n",
              "    </div>\n",
              "  </div>\n",
              "  "
            ]
          },
          "metadata": {},
          "execution_count": 158
        }
      ]
    },
    {
      "cell_type": "markdown",
      "source": [
        "Ambil Data"
      ],
      "metadata": {
        "id": "Jh37IqdwTuXL"
      }
    },
    {
      "cell_type": "code",
      "source": [
        "email = df_baru['Message'].values\n",
        "label = df_baru[['ham', 'spam']]"
      ],
      "metadata": {
        "id": "ayoZZpQNOd8D"
      },
      "execution_count": 159,
      "outputs": []
    },
    {
      "cell_type": "markdown",
      "source": [
        "Bagi data menjadi train dan test"
      ],
      "metadata": {
        "id": "7ED1Nj1ATv0k"
      }
    },
    {
      "cell_type": "code",
      "source": [
        "from sklearn.model_selection import train_test_split\n",
        "email_train, email_test, label_train, label_test = train_test_split(email, label, test_size=0.2)"
      ],
      "metadata": {
        "id": "7W6Q-V2YTVAB"
      },
      "execution_count": 161,
      "outputs": []
    },
    {
      "cell_type": "markdown",
      "source": [
        "Tokenisasi Kata"
      ],
      "metadata": {
        "id": "namPY2WgTzYF"
      }
    },
    {
      "cell_type": "code",
      "source": [
        "from tensorflow.keras.preprocessing.text import Tokenizer\n",
        "from tensorflow.keras.preprocessing.sequence import pad_sequences"
      ],
      "metadata": {
        "id": "bYvC8cSTTwvL"
      },
      "execution_count": 162,
      "outputs": []
    },
    {
      "cell_type": "code",
      "source": [
        "tokenizer = Tokenizer(num_words=250, oov_token='-')\n",
        "\n",
        "tokenizer.fit_on_texts(email_train)\n",
        "tokenizer.fit_on_texts(email_test)\n",
        "\n",
        "sekuens_train = tokenizer.texts_to_sequences(email_train)\n",
        "sekuens_test = tokenizer.texts_to_sequences(email_test)\n",
        "\n",
        "padded_train = pad_sequences(sekuens_train, maxlen=30)\n",
        "padded_test = pad_sequences(sekuens_test, maxlen=30)"
      ],
      "metadata": {
        "id": "EZ7X1w5JT5KL"
      },
      "execution_count": 163,
      "outputs": []
    },
    {
      "cell_type": "markdown",
      "source": [
        "Model"
      ],
      "metadata": {
        "id": "xRG11pGhT4Wf"
      }
    },
    {
      "cell_type": "code",
      "source": [
        "import tensorflow as tf\n",
        "model = tf.keras.Sequential([\n",
        "    tf.keras.layers.Embedding(input_dim=250, output_dim=64),\n",
        "    tf.keras.layers.LSTM(64),\n",
        "    tf.keras.layers.Dropout(0.3),\n",
        "    tf.keras.layers.Dense(256, activation='relu'),\n",
        "    tf.keras.layers.Dropout(0.4),\n",
        "    tf.keras.layers.Dense(128, activation='relu'),\n",
        "    tf.keras.layers.Dropout(0.3),\n",
        "    tf.keras.layers.Dense(64, activation='relu'),\n",
        "    tf.keras.layers.Dropout(0.2),\n",
        "    tf.keras.layers.Dense(32, activation='relu'),\n",
        "    tf.keras.layers.Dense(16, activation='relu'),\n",
        "    tf.keras.layers.Dense(2, activation='sigmoid')\n",
        "])"
      ],
      "metadata": {
        "id": "E2W_vjqSUiUj"
      },
      "execution_count": 164,
      "outputs": []
    },
    {
      "cell_type": "code",
      "source": [
        "model.summary()"
      ],
      "metadata": {
        "colab": {
          "base_uri": "https://localhost:8080/"
        },
        "id": "ar7pdLhaV2mO",
        "outputId": "a4241139-436f-44f3-81d0-d4cfd5357bb4"
      },
      "execution_count": 168,
      "outputs": [
        {
          "output_type": "stream",
          "name": "stdout",
          "text": [
            "Model: \"sequential_32\"\n",
            "_________________________________________________________________\n",
            " Layer (type)                Output Shape              Param #   \n",
            "=================================================================\n",
            " embedding_27 (Embedding)    (None, None, 64)          16000     \n",
            "                                                                 \n",
            " lstm_28 (LSTM)              (None, 64)                33024     \n",
            "                                                                 \n",
            " dropout_72 (Dropout)        (None, 64)                0         \n",
            "                                                                 \n",
            " dense_113 (Dense)           (None, 256)               16640     \n",
            "                                                                 \n",
            " dropout_73 (Dropout)        (None, 256)               0         \n",
            "                                                                 \n",
            " dense_114 (Dense)           (None, 128)               32896     \n",
            "                                                                 \n",
            " dropout_74 (Dropout)        (None, 128)               0         \n",
            "                                                                 \n",
            " dense_115 (Dense)           (None, 64)                8256      \n",
            "                                                                 \n",
            " dropout_75 (Dropout)        (None, 64)                0         \n",
            "                                                                 \n",
            " dense_116 (Dense)           (None, 32)                2080      \n",
            "                                                                 \n",
            " dense_117 (Dense)           (None, 16)                528       \n",
            "                                                                 \n",
            " dense_118 (Dense)           (None, 2)                 34        \n",
            "                                                                 \n",
            "=================================================================\n",
            "Total params: 109,458\n",
            "Trainable params: 109,458\n",
            "Non-trainable params: 0\n",
            "_________________________________________________________________\n"
          ]
        }
      ]
    },
    {
      "cell_type": "code",
      "source": [
        "model.compile(loss='binary_crossentropy',optimizer='adam',metrics=['accuracy'])"
      ],
      "metadata": {
        "id": "VxMco2tOVYBh"
      },
      "execution_count": 172,
      "outputs": []
    },
    {
      "cell_type": "markdown",
      "source": [
        "Implementasi Callback"
      ],
      "metadata": {
        "id": "ckWRsTN7T6zp"
      }
    },
    {
      "cell_type": "code",
      "source": [
        "def scheduler(epoch, lr):\n",
        "  if epoch < 10:\n",
        "    return lr\n",
        "  else:\n",
        "    return lr * tf.math.exp(-0.1)"
      ],
      "metadata": {
        "id": "-sMIlQE0SAnG"
      },
      "execution_count": 173,
      "outputs": []
    },
    {
      "cell_type": "markdown",
      "source": [
        "Callback learning scheduler, yang mana jika epoch sudah diatas 10, maka learning rate akan dikurangi"
      ],
      "metadata": {
        "id": "Vyh-gzT-T_Ar"
      }
    },
    {
      "cell_type": "code",
      "source": [
        "my_callback = tf.keras.callbacks.LearningRateScheduler(scheduler)"
      ],
      "metadata": {
        "id": "TbySZMfbRxJ4"
      },
      "execution_count": 174,
      "outputs": []
    },
    {
      "cell_type": "markdown",
      "source": [
        "Proses training model"
      ],
      "metadata": {
        "id": "33OdSuMGUO-4"
      }
    },
    {
      "cell_type": "code",
      "source": [
        "num_epochs = 15\n",
        "history = model.fit(padded_train, label_train, epochs=num_epochs,\n",
        "                    validation_data=(padded_test, label_test), verbose=2,\n",
        "                    callbacks=[my_callback])"
      ],
      "metadata": {
        "colab": {
          "base_uri": "https://localhost:8080/"
        },
        "id": "4DUALTuxVjda",
        "outputId": "06f454b2-fa84-4680-a2fc-73866042e86f"
      },
      "execution_count": 175,
      "outputs": [
        {
          "output_type": "stream",
          "name": "stdout",
          "text": [
            "Epoch 1/15\n",
            "140/140 - 10s - loss: 0.2443 - accuracy: 0.8988 - val_loss: 0.0835 - val_accuracy: 0.9776 - lr: 0.0010 - 10s/epoch - 70ms/step\n",
            "Epoch 2/15\n",
            "140/140 - 7s - loss: 0.0818 - accuracy: 0.9767 - val_loss: 0.0712 - val_accuracy: 0.9821 - lr: 0.0010 - 7s/epoch - 48ms/step\n",
            "Epoch 3/15\n",
            "140/140 - 5s - loss: 0.0614 - accuracy: 0.9823 - val_loss: 0.0630 - val_accuracy: 0.9821 - lr: 0.0010 - 5s/epoch - 33ms/step\n",
            "Epoch 4/15\n",
            "140/140 - 3s - loss: 0.0521 - accuracy: 0.9850 - val_loss: 0.0776 - val_accuracy: 0.9803 - lr: 0.0010 - 3s/epoch - 22ms/step\n",
            "Epoch 5/15\n",
            "140/140 - 4s - loss: 0.0515 - accuracy: 0.9863 - val_loss: 0.0792 - val_accuracy: 0.9812 - lr: 0.0010 - 4s/epoch - 26ms/step\n",
            "Epoch 6/15\n",
            "140/140 - 4s - loss: 0.0487 - accuracy: 0.9863 - val_loss: 0.0573 - val_accuracy: 0.9857 - lr: 0.0010 - 4s/epoch - 29ms/step\n",
            "Epoch 7/15\n",
            "140/140 - 4s - loss: 0.0418 - accuracy: 0.9883 - val_loss: 0.0619 - val_accuracy: 0.9830 - lr: 0.0010 - 4s/epoch - 31ms/step\n",
            "Epoch 8/15\n",
            "140/140 - 4s - loss: 0.0360 - accuracy: 0.9906 - val_loss: 0.0616 - val_accuracy: 0.9839 - lr: 0.0010 - 4s/epoch - 27ms/step\n",
            "Epoch 9/15\n",
            "140/140 - 5s - loss: 0.0382 - accuracy: 0.9892 - val_loss: 0.0594 - val_accuracy: 0.9848 - lr: 0.0010 - 5s/epoch - 36ms/step\n",
            "Epoch 10/15\n",
            "140/140 - 4s - loss: 0.0385 - accuracy: 0.9883 - val_loss: 0.0717 - val_accuracy: 0.9857 - lr: 0.0010 - 4s/epoch - 26ms/step\n",
            "Epoch 11/15\n",
            "140/140 - 3s - loss: 0.0291 - accuracy: 0.9915 - val_loss: 0.0770 - val_accuracy: 0.9874 - lr: 9.0484e-04 - 3s/epoch - 22ms/step\n",
            "Epoch 12/15\n",
            "140/140 - 3s - loss: 0.0272 - accuracy: 0.9908 - val_loss: 0.0865 - val_accuracy: 0.9812 - lr: 8.1873e-04 - 3s/epoch - 22ms/step\n",
            "Epoch 13/15\n",
            "140/140 - 4s - loss: 0.0269 - accuracy: 0.9921 - val_loss: 0.0632 - val_accuracy: 0.9874 - lr: 7.4082e-04 - 4s/epoch - 26ms/step\n",
            "Epoch 14/15\n",
            "140/140 - 4s - loss: 0.0209 - accuracy: 0.9946 - val_loss: 0.0725 - val_accuracy: 0.9830 - lr: 6.7032e-04 - 4s/epoch - 26ms/step\n",
            "Epoch 15/15\n",
            "140/140 - 3s - loss: 0.0180 - accuracy: 0.9957 - val_loss: 0.0857 - val_accuracy: 0.9839 - lr: 6.0653e-04 - 3s/epoch - 22ms/step\n"
          ]
        }
      ]
    },
    {
      "cell_type": "code",
      "source": [
        "import matplotlib.pyplot as plt"
      ],
      "metadata": {
        "id": "eLKrk8w2V0Py"
      },
      "execution_count": 177,
      "outputs": []
    },
    {
      "cell_type": "markdown",
      "source": [
        "Plot Loss"
      ],
      "metadata": {
        "id": "hHKJEpq_Ux5i"
      }
    },
    {
      "cell_type": "code",
      "source": [
        "loss = history.history['loss']\n",
        "val_loss = history.history['val_loss']\n",
        "plt.plot(loss)\n",
        "plt.plot(val_loss)\n",
        "plt.title('Model loss')\n",
        "plt.ylabel('Loss')\n",
        "plt.xlabel('Epoch')\n",
        "plt.legend(['Train_loss', 'Val_loss'], loc='upper right')\n",
        "plt.show()"
      ],
      "metadata": {
        "colab": {
          "base_uri": "https://localhost:8080/",
          "height": 295
        },
        "id": "1vrabjMjTOgQ",
        "outputId": "7f359c91-9679-447c-d82d-a4b5f71fe4b7"
      },
      "execution_count": 178,
      "outputs": [
        {
          "output_type": "display_data",
          "data": {
            "text/plain": [
              "<Figure size 432x288 with 1 Axes>"
            ],
            "image/png": "[encoded data removed]"
          },
          "metadata": {
            "needs_background": "light"
          }
        }
      ]
    },
    {
      "cell_type": "markdown",
      "source": [
        "Plot Akurasi"
      ],
      "metadata": {
        "id": "fghd84nCU2ML"
      }
    },
    {
      "cell_type": "code",
      "source": [
        "accuracy = history.history['accuracy']\n",
        "val_accuracy = history.history['val_accuracy']\n",
        "plt.plot(accuracy)\n",
        "plt.plot(val_accuracy)\n",
        "plt.title('Model Accuracy')\n",
        "plt.ylabel('Accuracy')\n",
        "plt.xlabel('Epoch')\n",
        "plt.legend(['Train_accuracy', 'Val_accuracy'], loc='upper right')\n",
        "plt.show()"
      ],
      "metadata": {
        "id": "ymcUr8JjWc6y",
        "colab": {
          "base_uri": "https://localhost:8080/",
          "height": 295
        },
        "outputId": "73274640-4ccc-4bec-b367-e9d64ff6d00e"
      },
      "execution_count": 180,
      "outputs": [
        {
          "output_type": "display_data",
          "data": {
            "text/plain": [
              "<Figure size 432x288 with 1 Axes>"
            ],
            "image/png": "[encoded data removed]"
          },
          "metadata": {
            "needs_background": "light"
          }
        }
      ]
    }
  ]
}